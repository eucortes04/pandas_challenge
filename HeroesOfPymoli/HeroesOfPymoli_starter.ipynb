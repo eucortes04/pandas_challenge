{
 "cells": [
  {
   "cell_type": "code",
   "execution_count": 1,
   "metadata": {},
   "outputs": [],
   "source": [
    "# Dependencies and Setup\n",
    "import pandas as pd\n",
    "\n",
    "# File to Load (Remember to Change These)\n",
    "file_to_load = \"Resources/purchase_data.csv\"\n",
    "\n",
    "# Read Purchasing File and store into Pandas data frame\n",
    "purchase_data = pd.read_csv(file_to_load)"
   ]
  },
  {
   "cell_type": "markdown",
   "metadata": {},
   "source": [
    "## Player Count"
   ]
  },
  {
   "cell_type": "code",
   "execution_count": 2,
   "metadata": {},
   "outputs": [
    {
     "data": {
      "text/html": [
       "<div>\n",
       "<style scoped>\n",
       "    .dataframe tbody tr th:only-of-type {\n",
       "        vertical-align: middle;\n",
       "    }\n",
       "\n",
       "    .dataframe tbody tr th {\n",
       "        vertical-align: top;\n",
       "    }\n",
       "\n",
       "    .dataframe thead th {\n",
       "        text-align: right;\n",
       "    }\n",
       "</style>\n",
       "<table border=\"1\" class=\"dataframe\">\n",
       "  <thead>\n",
       "    <tr style=\"text-align: right;\">\n",
       "      <th></th>\n",
       "      <th>Total Players</th>\n",
       "    </tr>\n",
       "  </thead>\n",
       "  <tbody>\n",
       "    <tr>\n",
       "      <th>0</th>\n",
       "      <td>576</td>\n",
       "    </tr>\n",
       "  </tbody>\n",
       "</table>\n",
       "</div>"
      ],
      "text/plain": [
       "   Total Players\n",
       "0            576"
      ]
     },
     "execution_count": 2,
     "metadata": {},
     "output_type": "execute_result"
    }
   ],
   "source": [
    "#Creating a DF to display the total players\n",
    "total_players_df = pd.DataFrame()\n",
    "\n",
    "#Counting players and adding to DF\n",
    "total_players_df['Total Players'] = pd.Series([purchase_data['SN'].nunique()])\n",
    "\n",
    "total_players_df"
   ]
  },
  {
   "cell_type": "markdown",
   "metadata": {},
   "source": [
    "## Purchasing Analysis (Total)"
   ]
  },
  {
   "cell_type": "code",
   "execution_count": 3,
   "metadata": {},
   "outputs": [
    {
     "data": {
      "text/html": [
       "<style  type=\"text/css\" >\n",
       "</style><table id=\"T_568dc5de_af94_11eb_bd3e_c4b301c8a1a7\" ><thead>    <tr>        <th class=\"blank level0\" ></th>        <th class=\"col_heading level0 col0\" >Number of Unique Items</th>        <th class=\"col_heading level0 col1\" >Average Price</th>        <th class=\"col_heading level0 col2\" >Number of Purchases</th>        <th class=\"col_heading level0 col3\" >Total Revenue</th>    </tr></thead><tbody>\n",
       "                <tr>\n",
       "                        <th id=\"T_568dc5de_af94_11eb_bd3e_c4b301c8a1a7level0_row0\" class=\"row_heading level0 row0\" >0</th>\n",
       "                        <td id=\"T_568dc5de_af94_11eb_bd3e_c4b301c8a1a7row0_col0\" class=\"data row0 col0\" >179</td>\n",
       "                        <td id=\"T_568dc5de_af94_11eb_bd3e_c4b301c8a1a7row0_col1\" class=\"data row0 col1\" >$3.05</td>\n",
       "                        <td id=\"T_568dc5de_af94_11eb_bd3e_c4b301c8a1a7row0_col2\" class=\"data row0 col2\" >780</td>\n",
       "                        <td id=\"T_568dc5de_af94_11eb_bd3e_c4b301c8a1a7row0_col3\" class=\"data row0 col3\" >$2,379.77</td>\n",
       "            </tr>\n",
       "    </tbody></table>"
      ],
      "text/plain": [
       "<pandas.io.formats.style.Styler at 0x7fdb4a460ee0>"
      ]
     },
     "execution_count": 3,
     "metadata": {},
     "output_type": "execute_result"
    }
   ],
   "source": [
    "#Creating DF to store and display summary\n",
    "purchase_summary_df = pd.DataFrame()\n",
    "\n",
    "#count unique items & add to summary DF\n",
    "purchase_summary_df['Number of Unique Items'] = pd.Series([purchase_data['Item Name'].nunique()])\n",
    "#calculate mean price & add to summary DF\n",
    "purchase_summary_df['Average Price'] = pd.Series([purchase_data['Price'].mean()])\n",
    "#count purchase ID's & add to summary DF\n",
    "purchase_summary_df['Number of Purchases'] = pd.Series([purchase_data['Purchase ID'].count()])\n",
    "#sum prices & add to summary DF\n",
    "purchase_summary_df['Total Revenue'] = pd.Series([purchase_data['Price'].sum()])\n",
    "\n",
    "#print out summary DF with proper styling on price and revenue\n",
    "purchase_summary_df.style.format({'Average Price':'${:,.2f}', 'Total Revenue':'${:,.2f}'})\n"
   ]
  },
  {
   "cell_type": "markdown",
   "metadata": {},
   "source": [
    "## Gender Demographics"
   ]
  },
  {
   "cell_type": "code",
   "execution_count": 4,
   "metadata": {},
   "outputs": [
    {
     "data": {
      "text/html": [
       "<style  type=\"text/css\" >\n",
       "</style><table id=\"T_5693dbb8_af94_11eb_bd3e_c4b301c8a1a7\" ><thead>    <tr>        <th class=\"blank level0\" ></th>        <th class=\"col_heading level0 col0\" >Total Count</th>        <th class=\"col_heading level0 col1\" >Percentage of Players</th>    </tr></thead><tbody>\n",
       "                <tr>\n",
       "                        <th id=\"T_5693dbb8_af94_11eb_bd3e_c4b301c8a1a7level0_row0\" class=\"row_heading level0 row0\" >Male</th>\n",
       "                        <td id=\"T_5693dbb8_af94_11eb_bd3e_c4b301c8a1a7row0_col0\" class=\"data row0 col0\" >484</td>\n",
       "                        <td id=\"T_5693dbb8_af94_11eb_bd3e_c4b301c8a1a7row0_col1\" class=\"data row0 col1\" >84.03%</td>\n",
       "            </tr>\n",
       "            <tr>\n",
       "                        <th id=\"T_5693dbb8_af94_11eb_bd3e_c4b301c8a1a7level0_row1\" class=\"row_heading level0 row1\" >Female</th>\n",
       "                        <td id=\"T_5693dbb8_af94_11eb_bd3e_c4b301c8a1a7row1_col0\" class=\"data row1 col0\" >81</td>\n",
       "                        <td id=\"T_5693dbb8_af94_11eb_bd3e_c4b301c8a1a7row1_col1\" class=\"data row1 col1\" >14.06%</td>\n",
       "            </tr>\n",
       "            <tr>\n",
       "                        <th id=\"T_5693dbb8_af94_11eb_bd3e_c4b301c8a1a7level0_row2\" class=\"row_heading level0 row2\" >Other/Non-Disclosed</th>\n",
       "                        <td id=\"T_5693dbb8_af94_11eb_bd3e_c4b301c8a1a7row2_col0\" class=\"data row2 col0\" >11</td>\n",
       "                        <td id=\"T_5693dbb8_af94_11eb_bd3e_c4b301c8a1a7row2_col1\" class=\"data row2 col1\" >1.91%</td>\n",
       "            </tr>\n",
       "    </tbody></table>"
      ],
      "text/plain": [
       "<pandas.io.formats.style.Styler at 0x7fdb4a4802b0>"
      ]
     },
     "execution_count": 4,
     "metadata": {},
     "output_type": "execute_result"
    }
   ],
   "source": [
    "#Creating DF to store and display Gender Demographics\n",
    "gender_df = pd.DataFrame()\n",
    "\n",
    "#Using loc to pull DF with specific answer to gender question\n",
    "male = purchase_data.loc[purchase_data['Gender']=='Male']\n",
    "female = purchase_data.loc[purchase_data['Gender']=='Female']\n",
    "other = purchase_data.loc[purchase_data['Gender']=='Other / Non-Disclosed']\n",
    "\n",
    "#inserting gender counts into DF\n",
    "gender_df.insert(0,'Total Count',[male['SN'].nunique(),female['SN'].nunique(),other['SN'].nunique()])\n",
    "#adding index for gender DF\n",
    "gender_df.index = ['Male','Female','Other/Non-Disclosed']\n",
    "#adding % by dividing cells of gender df by total players df\n",
    "gender_df.insert(1,'Percentage of Players',gender_df['Total Count']/total_players_df.iloc[0,0])\n",
    "\n",
    "#Formatting and print\n",
    "gender_df.style.format({'Percentage of Players':'{:,.2%}'})"
   ]
  },
  {
   "cell_type": "markdown",
   "metadata": {},
   "source": [
    "\n",
    "## Purchasing Analysis (Gender)"
   ]
  },
  {
   "cell_type": "code",
   "execution_count": 5,
   "metadata": {},
   "outputs": [
    {
     "data": {
      "text/html": [
       "<style  type=\"text/css\" >\n",
       "</style><table id=\"T_56a812d6_af94_11eb_bd3e_c4b301c8a1a7\" ><thead>    <tr>        <th class=\"blank level0\" ></th>        <th class=\"col_heading level0 col0\" >Purchase Count</th>        <th class=\"col_heading level0 col1\" >Average Purchase Price</th>        <th class=\"col_heading level0 col2\" >Total Purchase Value</th>        <th class=\"col_heading level0 col3\" >Avg Total Purchase per Person</th>    </tr>    <tr>        <th class=\"index_name level0\" >Gender</th>        <th class=\"blank\" ></th>        <th class=\"blank\" ></th>        <th class=\"blank\" ></th>        <th class=\"blank\" ></th>    </tr></thead><tbody>\n",
       "                <tr>\n",
       "                        <th id=\"T_56a812d6_af94_11eb_bd3e_c4b301c8a1a7level0_row0\" class=\"row_heading level0 row0\" >Female</th>\n",
       "                        <td id=\"T_56a812d6_af94_11eb_bd3e_c4b301c8a1a7row0_col0\" class=\"data row0 col0\" >113</td>\n",
       "                        <td id=\"T_56a812d6_af94_11eb_bd3e_c4b301c8a1a7row0_col1\" class=\"data row0 col1\" >$3.20</td>\n",
       "                        <td id=\"T_56a812d6_af94_11eb_bd3e_c4b301c8a1a7row0_col2\" class=\"data row0 col2\" >$361.94</td>\n",
       "                        <td id=\"T_56a812d6_af94_11eb_bd3e_c4b301c8a1a7row0_col3\" class=\"data row0 col3\" >$4.47</td>\n",
       "            </tr>\n",
       "            <tr>\n",
       "                        <th id=\"T_56a812d6_af94_11eb_bd3e_c4b301c8a1a7level0_row1\" class=\"row_heading level0 row1\" >Male</th>\n",
       "                        <td id=\"T_56a812d6_af94_11eb_bd3e_c4b301c8a1a7row1_col0\" class=\"data row1 col0\" >652</td>\n",
       "                        <td id=\"T_56a812d6_af94_11eb_bd3e_c4b301c8a1a7row1_col1\" class=\"data row1 col1\" >$3.02</td>\n",
       "                        <td id=\"T_56a812d6_af94_11eb_bd3e_c4b301c8a1a7row1_col2\" class=\"data row1 col2\" >$1,967.64</td>\n",
       "                        <td id=\"T_56a812d6_af94_11eb_bd3e_c4b301c8a1a7row1_col3\" class=\"data row1 col3\" >$4.07</td>\n",
       "            </tr>\n",
       "            <tr>\n",
       "                        <th id=\"T_56a812d6_af94_11eb_bd3e_c4b301c8a1a7level0_row2\" class=\"row_heading level0 row2\" >Other / Non-Disclosed</th>\n",
       "                        <td id=\"T_56a812d6_af94_11eb_bd3e_c4b301c8a1a7row2_col0\" class=\"data row2 col0\" >15</td>\n",
       "                        <td id=\"T_56a812d6_af94_11eb_bd3e_c4b301c8a1a7row2_col1\" class=\"data row2 col1\" >$3.35</td>\n",
       "                        <td id=\"T_56a812d6_af94_11eb_bd3e_c4b301c8a1a7row2_col2\" class=\"data row2 col2\" >$50.19</td>\n",
       "                        <td id=\"T_56a812d6_af94_11eb_bd3e_c4b301c8a1a7row2_col3\" class=\"data row2 col3\" >$4.56</td>\n",
       "            </tr>\n",
       "    </tbody></table>"
      ],
      "text/plain": [
       "<pandas.io.formats.style.Styler at 0x7fdb4cb71ee0>"
      ]
     },
     "execution_count": 5,
     "metadata": {},
     "output_type": "execute_result"
    }
   ],
   "source": [
    "#Create DF to hold purchase analysis for Gender\n",
    "#Groupby for less lift\n",
    "purchaseGenderDF = pd.DataFrame({\n",
    "    #Purchase count = grouping by gender, counting purchases\n",
    "    \"Purchase Count\": purchase_data.groupby(['Gender'])['Purchase ID'].count(),\n",
    "    #AVG purchase price = grouping by gender then average prices\n",
    "    \"Average Purchase Price\": purchase_data.groupby(['Gender'])['Price'].mean(),\n",
    "    #total purchase = grouping by gender then sum of prices\n",
    "    \"Total Purchase Value\": purchase_data.groupby(['Gender'])['Price'].sum(),\n",
    "    #avg purchase per person group by gender then sum of prices divided by grouping of Gender and counting unique SN (screen name?)\n",
    "    \"Avg Total Purchase per Person\": purchase_data.groupby(['Gender'])['Price'].sum()/purchase_data.groupby(['Gender'])['SN'].nunique()\n",
    "})\n",
    "\n",
    "#Format and print\n",
    "purchaseGenderDF.style.format({'Average Purchase Price':'${:,.2f}', 'Total Purchase Value':'${:,.2f}','Avg Total Purchase per Person':'${:,.2f}'})"
   ]
  },
  {
   "cell_type": "markdown",
   "metadata": {},
   "source": [
    "## Age Demographics"
   ]
  },
  {
   "cell_type": "code",
   "execution_count": 6,
   "metadata": {},
   "outputs": [
    {
     "data": {
      "text/html": [
       "<style  type=\"text/css\" >\n",
       "</style><table id=\"T_56ace2fc_af94_11eb_bd3e_c4b301c8a1a7\" ><thead>    <tr>        <th class=\"blank level0\" ></th>        <th class=\"col_heading level0 col0\" >Total Count</th>        <th class=\"col_heading level0 col1\" >Percentage of Players</th>    </tr>    <tr>        <th class=\"index_name level0\" >Age Group</th>        <th class=\"blank\" ></th>        <th class=\"blank\" ></th>    </tr></thead><tbody>\n",
       "                <tr>\n",
       "                        <th id=\"T_56ace2fc_af94_11eb_bd3e_c4b301c8a1a7level0_row0\" class=\"row_heading level0 row0\" ><10</th>\n",
       "                        <td id=\"T_56ace2fc_af94_11eb_bd3e_c4b301c8a1a7row0_col0\" class=\"data row0 col0\" >17</td>\n",
       "                        <td id=\"T_56ace2fc_af94_11eb_bd3e_c4b301c8a1a7row0_col1\" class=\"data row0 col1\" >2.95%</td>\n",
       "            </tr>\n",
       "            <tr>\n",
       "                        <th id=\"T_56ace2fc_af94_11eb_bd3e_c4b301c8a1a7level0_row1\" class=\"row_heading level0 row1\" >10-14</th>\n",
       "                        <td id=\"T_56ace2fc_af94_11eb_bd3e_c4b301c8a1a7row1_col0\" class=\"data row1 col0\" >22</td>\n",
       "                        <td id=\"T_56ace2fc_af94_11eb_bd3e_c4b301c8a1a7row1_col1\" class=\"data row1 col1\" >3.82%</td>\n",
       "            </tr>\n",
       "            <tr>\n",
       "                        <th id=\"T_56ace2fc_af94_11eb_bd3e_c4b301c8a1a7level0_row2\" class=\"row_heading level0 row2\" >15-19</th>\n",
       "                        <td id=\"T_56ace2fc_af94_11eb_bd3e_c4b301c8a1a7row2_col0\" class=\"data row2 col0\" >107</td>\n",
       "                        <td id=\"T_56ace2fc_af94_11eb_bd3e_c4b301c8a1a7row2_col1\" class=\"data row2 col1\" >18.58%</td>\n",
       "            </tr>\n",
       "            <tr>\n",
       "                        <th id=\"T_56ace2fc_af94_11eb_bd3e_c4b301c8a1a7level0_row3\" class=\"row_heading level0 row3\" >20-24</th>\n",
       "                        <td id=\"T_56ace2fc_af94_11eb_bd3e_c4b301c8a1a7row3_col0\" class=\"data row3 col0\" >258</td>\n",
       "                        <td id=\"T_56ace2fc_af94_11eb_bd3e_c4b301c8a1a7row3_col1\" class=\"data row3 col1\" >44.79%</td>\n",
       "            </tr>\n",
       "            <tr>\n",
       "                        <th id=\"T_56ace2fc_af94_11eb_bd3e_c4b301c8a1a7level0_row4\" class=\"row_heading level0 row4\" >25-29</th>\n",
       "                        <td id=\"T_56ace2fc_af94_11eb_bd3e_c4b301c8a1a7row4_col0\" class=\"data row4 col0\" >77</td>\n",
       "                        <td id=\"T_56ace2fc_af94_11eb_bd3e_c4b301c8a1a7row4_col1\" class=\"data row4 col1\" >13.37%</td>\n",
       "            </tr>\n",
       "            <tr>\n",
       "                        <th id=\"T_56ace2fc_af94_11eb_bd3e_c4b301c8a1a7level0_row5\" class=\"row_heading level0 row5\" >30-34</th>\n",
       "                        <td id=\"T_56ace2fc_af94_11eb_bd3e_c4b301c8a1a7row5_col0\" class=\"data row5 col0\" >52</td>\n",
       "                        <td id=\"T_56ace2fc_af94_11eb_bd3e_c4b301c8a1a7row5_col1\" class=\"data row5 col1\" >9.03%</td>\n",
       "            </tr>\n",
       "            <tr>\n",
       "                        <th id=\"T_56ace2fc_af94_11eb_bd3e_c4b301c8a1a7level0_row6\" class=\"row_heading level0 row6\" >35-39</th>\n",
       "                        <td id=\"T_56ace2fc_af94_11eb_bd3e_c4b301c8a1a7row6_col0\" class=\"data row6 col0\" >31</td>\n",
       "                        <td id=\"T_56ace2fc_af94_11eb_bd3e_c4b301c8a1a7row6_col1\" class=\"data row6 col1\" >5.38%</td>\n",
       "            </tr>\n",
       "            <tr>\n",
       "                        <th id=\"T_56ace2fc_af94_11eb_bd3e_c4b301c8a1a7level0_row7\" class=\"row_heading level0 row7\" >40+</th>\n",
       "                        <td id=\"T_56ace2fc_af94_11eb_bd3e_c4b301c8a1a7row7_col0\" class=\"data row7 col0\" >12</td>\n",
       "                        <td id=\"T_56ace2fc_af94_11eb_bd3e_c4b301c8a1a7row7_col1\" class=\"data row7 col1\" >2.08%</td>\n",
       "            </tr>\n",
       "    </tbody></table>"
      ],
      "text/plain": [
       "<pandas.io.formats.style.Styler at 0x7fdb4c8b1580>"
      ]
     },
     "execution_count": 6,
     "metadata": {},
     "output_type": "execute_result"
    }
   ],
   "source": [
    "#Bins info\n",
    "bins_age = [0,9,14,19,24,29,34,39,100]\n",
    "bins_age_labels = ['<10','10-14','15-19','20-24','25-29','30-34','35-39','40+']\n",
    "\n",
    "#add bins to dataframe\n",
    "purchase_data['Age Group'] = pd.cut(purchase_data[\"Age\"],bins=bins_age,labels=bins_age_labels)\n",
    "\n",
    "#create dataframe for summary grouping by the bins and counting unique screen names\n",
    "age_demographics = pd.DataFrame({\n",
    "    'Total Count': purchase_data.groupby(['Age Group'])['SN'].nunique()\n",
    "})\n",
    "age_demographics.insert(1,'Percentage of Players',age_demographics['Total Count']/total_players_df.iloc[0,0])\n",
    "\n",
    "#Formatting and print\n",
    "age_demographics.style.format({'Percentage of Players':'{:,.2%}'})"
   ]
  },
  {
   "cell_type": "markdown",
   "metadata": {},
   "source": [
    "## Purchasing Analysis (Age)"
   ]
  },
  {
   "cell_type": "markdown",
   "metadata": {},
   "source": [
    "* Bin the purchase_data data frame by age\n",
    "\n",
    "\n",
    "* Run basic calculations to obtain purchase count, avg. purchase price, avg. purchase total per person etc. in the table below\n",
    "\n",
    "\n",
    "* Create a summary data frame to hold the results\n",
    "\n",
    "\n",
    "* Optional: give the displayed data cleaner formatting\n",
    "\n",
    "\n",
    "* Display the summary data frame"
   ]
  },
  {
   "cell_type": "code",
   "execution_count": 7,
   "metadata": {},
   "outputs": [
    {
     "data": {
      "text/html": [
       "<style  type=\"text/css\" >\n",
       "</style><table id=\"T_56b6a1ca_af94_11eb_bd3e_c4b301c8a1a7\" ><thead>    <tr>        <th class=\"blank level0\" ></th>        <th class=\"col_heading level0 col0\" >Purchase Count</th>        <th class=\"col_heading level0 col1\" >Average Purchase Price</th>        <th class=\"col_heading level0 col2\" >Total Purchase Value</th>        <th class=\"col_heading level0 col3\" >Avg Total Purchase per Person</th>    </tr>    <tr>        <th class=\"index_name level0\" >Age Group</th>        <th class=\"blank\" ></th>        <th class=\"blank\" ></th>        <th class=\"blank\" ></th>        <th class=\"blank\" ></th>    </tr></thead><tbody>\n",
       "                <tr>\n",
       "                        <th id=\"T_56b6a1ca_af94_11eb_bd3e_c4b301c8a1a7level0_row0\" class=\"row_heading level0 row0\" ><10</th>\n",
       "                        <td id=\"T_56b6a1ca_af94_11eb_bd3e_c4b301c8a1a7row0_col0\" class=\"data row0 col0\" >23</td>\n",
       "                        <td id=\"T_56b6a1ca_af94_11eb_bd3e_c4b301c8a1a7row0_col1\" class=\"data row0 col1\" >$3.35</td>\n",
       "                        <td id=\"T_56b6a1ca_af94_11eb_bd3e_c4b301c8a1a7row0_col2\" class=\"data row0 col2\" >$77.13</td>\n",
       "                        <td id=\"T_56b6a1ca_af94_11eb_bd3e_c4b301c8a1a7row0_col3\" class=\"data row0 col3\" >$4.54</td>\n",
       "            </tr>\n",
       "            <tr>\n",
       "                        <th id=\"T_56b6a1ca_af94_11eb_bd3e_c4b301c8a1a7level0_row1\" class=\"row_heading level0 row1\" >10-14</th>\n",
       "                        <td id=\"T_56b6a1ca_af94_11eb_bd3e_c4b301c8a1a7row1_col0\" class=\"data row1 col0\" >28</td>\n",
       "                        <td id=\"T_56b6a1ca_af94_11eb_bd3e_c4b301c8a1a7row1_col1\" class=\"data row1 col1\" >$2.96</td>\n",
       "                        <td id=\"T_56b6a1ca_af94_11eb_bd3e_c4b301c8a1a7row1_col2\" class=\"data row1 col2\" >$82.78</td>\n",
       "                        <td id=\"T_56b6a1ca_af94_11eb_bd3e_c4b301c8a1a7row1_col3\" class=\"data row1 col3\" >$3.76</td>\n",
       "            </tr>\n",
       "            <tr>\n",
       "                        <th id=\"T_56b6a1ca_af94_11eb_bd3e_c4b301c8a1a7level0_row2\" class=\"row_heading level0 row2\" >15-19</th>\n",
       "                        <td id=\"T_56b6a1ca_af94_11eb_bd3e_c4b301c8a1a7row2_col0\" class=\"data row2 col0\" >136</td>\n",
       "                        <td id=\"T_56b6a1ca_af94_11eb_bd3e_c4b301c8a1a7row2_col1\" class=\"data row2 col1\" >$3.04</td>\n",
       "                        <td id=\"T_56b6a1ca_af94_11eb_bd3e_c4b301c8a1a7row2_col2\" class=\"data row2 col2\" >$412.89</td>\n",
       "                        <td id=\"T_56b6a1ca_af94_11eb_bd3e_c4b301c8a1a7row2_col3\" class=\"data row2 col3\" >$3.86</td>\n",
       "            </tr>\n",
       "            <tr>\n",
       "                        <th id=\"T_56b6a1ca_af94_11eb_bd3e_c4b301c8a1a7level0_row3\" class=\"row_heading level0 row3\" >20-24</th>\n",
       "                        <td id=\"T_56b6a1ca_af94_11eb_bd3e_c4b301c8a1a7row3_col0\" class=\"data row3 col0\" >365</td>\n",
       "                        <td id=\"T_56b6a1ca_af94_11eb_bd3e_c4b301c8a1a7row3_col1\" class=\"data row3 col1\" >$3.05</td>\n",
       "                        <td id=\"T_56b6a1ca_af94_11eb_bd3e_c4b301c8a1a7row3_col2\" class=\"data row3 col2\" >$1,114.06</td>\n",
       "                        <td id=\"T_56b6a1ca_af94_11eb_bd3e_c4b301c8a1a7row3_col3\" class=\"data row3 col3\" >$4.32</td>\n",
       "            </tr>\n",
       "            <tr>\n",
       "                        <th id=\"T_56b6a1ca_af94_11eb_bd3e_c4b301c8a1a7level0_row4\" class=\"row_heading level0 row4\" >25-29</th>\n",
       "                        <td id=\"T_56b6a1ca_af94_11eb_bd3e_c4b301c8a1a7row4_col0\" class=\"data row4 col0\" >101</td>\n",
       "                        <td id=\"T_56b6a1ca_af94_11eb_bd3e_c4b301c8a1a7row4_col1\" class=\"data row4 col1\" >$2.90</td>\n",
       "                        <td id=\"T_56b6a1ca_af94_11eb_bd3e_c4b301c8a1a7row4_col2\" class=\"data row4 col2\" >$293.00</td>\n",
       "                        <td id=\"T_56b6a1ca_af94_11eb_bd3e_c4b301c8a1a7row4_col3\" class=\"data row4 col3\" >$3.81</td>\n",
       "            </tr>\n",
       "            <tr>\n",
       "                        <th id=\"T_56b6a1ca_af94_11eb_bd3e_c4b301c8a1a7level0_row5\" class=\"row_heading level0 row5\" >30-34</th>\n",
       "                        <td id=\"T_56b6a1ca_af94_11eb_bd3e_c4b301c8a1a7row5_col0\" class=\"data row5 col0\" >73</td>\n",
       "                        <td id=\"T_56b6a1ca_af94_11eb_bd3e_c4b301c8a1a7row5_col1\" class=\"data row5 col1\" >$2.93</td>\n",
       "                        <td id=\"T_56b6a1ca_af94_11eb_bd3e_c4b301c8a1a7row5_col2\" class=\"data row5 col2\" >$214.00</td>\n",
       "                        <td id=\"T_56b6a1ca_af94_11eb_bd3e_c4b301c8a1a7row5_col3\" class=\"data row5 col3\" >$4.12</td>\n",
       "            </tr>\n",
       "            <tr>\n",
       "                        <th id=\"T_56b6a1ca_af94_11eb_bd3e_c4b301c8a1a7level0_row6\" class=\"row_heading level0 row6\" >35-39</th>\n",
       "                        <td id=\"T_56b6a1ca_af94_11eb_bd3e_c4b301c8a1a7row6_col0\" class=\"data row6 col0\" >41</td>\n",
       "                        <td id=\"T_56b6a1ca_af94_11eb_bd3e_c4b301c8a1a7row6_col1\" class=\"data row6 col1\" >$3.60</td>\n",
       "                        <td id=\"T_56b6a1ca_af94_11eb_bd3e_c4b301c8a1a7row6_col2\" class=\"data row6 col2\" >$147.67</td>\n",
       "                        <td id=\"T_56b6a1ca_af94_11eb_bd3e_c4b301c8a1a7row6_col3\" class=\"data row6 col3\" >$4.76</td>\n",
       "            </tr>\n",
       "            <tr>\n",
       "                        <th id=\"T_56b6a1ca_af94_11eb_bd3e_c4b301c8a1a7level0_row7\" class=\"row_heading level0 row7\" >40+</th>\n",
       "                        <td id=\"T_56b6a1ca_af94_11eb_bd3e_c4b301c8a1a7row7_col0\" class=\"data row7 col0\" >13</td>\n",
       "                        <td id=\"T_56b6a1ca_af94_11eb_bd3e_c4b301c8a1a7row7_col1\" class=\"data row7 col1\" >$2.94</td>\n",
       "                        <td id=\"T_56b6a1ca_af94_11eb_bd3e_c4b301c8a1a7row7_col2\" class=\"data row7 col2\" >$38.24</td>\n",
       "                        <td id=\"T_56b6a1ca_af94_11eb_bd3e_c4b301c8a1a7row7_col3\" class=\"data row7 col3\" >$3.19</td>\n",
       "            </tr>\n",
       "    </tbody></table>"
      ],
      "text/plain": [
       "<pandas.io.formats.style.Styler at 0x7fdb4cb1b2e0>"
      ]
     },
     "execution_count": 7,
     "metadata": {},
     "output_type": "execute_result"
    }
   ],
   "source": [
    "#Create DF to hold purchase analysis for Age\n",
    "purchaseAgeDF = pd.DataFrame({\n",
    "    #Purchase count = grouping by Age, counting purchases\n",
    "    \"Purchase Count\": purchase_data.groupby(['Age Group'])['Purchase ID'].count(),\n",
    "    #AVG purchase price = grouping by Age then average prices\n",
    "    \"Average Purchase Price\": purchase_data.groupby(['Age Group'])['Price'].mean(),\n",
    "    #total purchase = grouping by Age then sum of prices\n",
    "    \"Total Purchase Value\": purchase_data.groupby(['Age Group'])['Price'].sum(),\n",
    "    #avg purchase per person group by Age then sum of prices divided by grouping of Age and counting unique screen name\n",
    "    \"Avg Total Purchase per Person\": purchase_data.groupby(['Age Group'])['Price'].sum()/purchase_data.groupby(['Age Group'])['SN'].nunique()\n",
    "})\n",
    "\n",
    "#Format and print\n",
    "purchaseAgeDF.style.format({'Average Purchase Price':'${:,.2f}', 'Total Purchase Value':'${:,.2f}','Avg Total Purchase per Person':'${:,.2f}'})"
   ]
  },
  {
   "cell_type": "markdown",
   "metadata": {},
   "source": [
    "## Top Spenders"
   ]
  },
  {
   "cell_type": "code",
   "execution_count": 8,
   "metadata": {},
   "outputs": [
    {
     "data": {
      "text/html": [
       "<style  type=\"text/css\" >\n",
       "</style><table id=\"T_56be12f2_af94_11eb_bd3e_c4b301c8a1a7\" ><thead>    <tr>        <th class=\"blank level0\" ></th>        <th class=\"col_heading level0 col0\" >Purchase Count</th>        <th class=\"col_heading level0 col1\" >Average Purchase Price</th>        <th class=\"col_heading level0 col2\" >Total Purchase Value</th>    </tr>    <tr>        <th class=\"index_name level0\" >SN</th>        <th class=\"blank\" ></th>        <th class=\"blank\" ></th>        <th class=\"blank\" ></th>    </tr></thead><tbody>\n",
       "                <tr>\n",
       "                        <th id=\"T_56be12f2_af94_11eb_bd3e_c4b301c8a1a7level0_row0\" class=\"row_heading level0 row0\" >Lisosia93</th>\n",
       "                        <td id=\"T_56be12f2_af94_11eb_bd3e_c4b301c8a1a7row0_col0\" class=\"data row0 col0\" >5</td>\n",
       "                        <td id=\"T_56be12f2_af94_11eb_bd3e_c4b301c8a1a7row0_col1\" class=\"data row0 col1\" >$3.79</td>\n",
       "                        <td id=\"T_56be12f2_af94_11eb_bd3e_c4b301c8a1a7row0_col2\" class=\"data row0 col2\" >$18.96</td>\n",
       "            </tr>\n",
       "            <tr>\n",
       "                        <th id=\"T_56be12f2_af94_11eb_bd3e_c4b301c8a1a7level0_row1\" class=\"row_heading level0 row1\" >Idastidru52</th>\n",
       "                        <td id=\"T_56be12f2_af94_11eb_bd3e_c4b301c8a1a7row1_col0\" class=\"data row1 col0\" >4</td>\n",
       "                        <td id=\"T_56be12f2_af94_11eb_bd3e_c4b301c8a1a7row1_col1\" class=\"data row1 col1\" >$3.86</td>\n",
       "                        <td id=\"T_56be12f2_af94_11eb_bd3e_c4b301c8a1a7row1_col2\" class=\"data row1 col2\" >$15.45</td>\n",
       "            </tr>\n",
       "            <tr>\n",
       "                        <th id=\"T_56be12f2_af94_11eb_bd3e_c4b301c8a1a7level0_row2\" class=\"row_heading level0 row2\" >Chamjask73</th>\n",
       "                        <td id=\"T_56be12f2_af94_11eb_bd3e_c4b301c8a1a7row2_col0\" class=\"data row2 col0\" >3</td>\n",
       "                        <td id=\"T_56be12f2_af94_11eb_bd3e_c4b301c8a1a7row2_col1\" class=\"data row2 col1\" >$4.61</td>\n",
       "                        <td id=\"T_56be12f2_af94_11eb_bd3e_c4b301c8a1a7row2_col2\" class=\"data row2 col2\" >$13.83</td>\n",
       "            </tr>\n",
       "            <tr>\n",
       "                        <th id=\"T_56be12f2_af94_11eb_bd3e_c4b301c8a1a7level0_row3\" class=\"row_heading level0 row3\" >Iral74</th>\n",
       "                        <td id=\"T_56be12f2_af94_11eb_bd3e_c4b301c8a1a7row3_col0\" class=\"data row3 col0\" >4</td>\n",
       "                        <td id=\"T_56be12f2_af94_11eb_bd3e_c4b301c8a1a7row3_col1\" class=\"data row3 col1\" >$3.40</td>\n",
       "                        <td id=\"T_56be12f2_af94_11eb_bd3e_c4b301c8a1a7row3_col2\" class=\"data row3 col2\" >$13.62</td>\n",
       "            </tr>\n",
       "            <tr>\n",
       "                        <th id=\"T_56be12f2_af94_11eb_bd3e_c4b301c8a1a7level0_row4\" class=\"row_heading level0 row4\" >Iskadarya95</th>\n",
       "                        <td id=\"T_56be12f2_af94_11eb_bd3e_c4b301c8a1a7row4_col0\" class=\"data row4 col0\" >3</td>\n",
       "                        <td id=\"T_56be12f2_af94_11eb_bd3e_c4b301c8a1a7row4_col1\" class=\"data row4 col1\" >$4.37</td>\n",
       "                        <td id=\"T_56be12f2_af94_11eb_bd3e_c4b301c8a1a7row4_col2\" class=\"data row4 col2\" >$13.10</td>\n",
       "            </tr>\n",
       "    </tbody></table>"
      ],
      "text/plain": [
       "<pandas.io.formats.style.Styler at 0x7fdb4cb71d00>"
      ]
     },
     "execution_count": 8,
     "metadata": {},
     "output_type": "execute_result"
    }
   ],
   "source": [
    "topSpenderDF = pd.DataFrame({\n",
    "    #Purchase count = grouping by SN, counting purchases\n",
    "    \"Purchase Count\": purchase_data.groupby(['SN'])['Purchase ID'].count(),\n",
    "    #AVG purchase price = grouping by SN then average prices\n",
    "    \"Average Purchase Price\": purchase_data.groupby(['SN'])['Price'].mean(),\n",
    "    #total purchase = grouping by SN then sum of prices\n",
    "    \"Total Purchase Value\": purchase_data.groupby(['SN'])['Price'].sum(),\n",
    "})\n",
    "\n",
    "\n",
    "# sort and pull top 5 by total purchase value then Format and print\n",
    "topSpenderDF.nlargest(5, 'Total Purchase Value').style.format({'Average Purchase Price':'${:,.2f}', 'Total Purchase Value':'${:,.2f}'})"
   ]
  },
  {
   "cell_type": "markdown",
   "metadata": {},
   "source": [
    "## Most Popular Items"
   ]
  },
  {
   "cell_type": "code",
   "execution_count": 9,
   "metadata": {},
   "outputs": [
    {
     "data": {
      "text/html": [
       "<style  type=\"text/css\" >\n",
       "</style><table id=\"T_56c4a25c_af94_11eb_bd3e_c4b301c8a1a7\" ><thead>    <tr>        <th class=\"blank\" ></th>        <th class=\"blank level0\" ></th>        <th class=\"col_heading level0 col0\" >Purchase Count</th>        <th class=\"col_heading level0 col1\" >Item Price</th>        <th class=\"col_heading level0 col2\" >Total Purchase Value</th>    </tr>    <tr>        <th class=\"index_name level0\" >Item ID</th>        <th class=\"index_name level1\" >Item Name</th>        <th class=\"blank\" ></th>        <th class=\"blank\" ></th>        <th class=\"blank\" ></th>    </tr></thead><tbody>\n",
       "                <tr>\n",
       "                        <th id=\"T_56c4a25c_af94_11eb_bd3e_c4b301c8a1a7level0_row0\" class=\"row_heading level0 row0\" >92</th>\n",
       "                        <th id=\"T_56c4a25c_af94_11eb_bd3e_c4b301c8a1a7level1_row0\" class=\"row_heading level1 row0\" >Final Critic</th>\n",
       "                        <td id=\"T_56c4a25c_af94_11eb_bd3e_c4b301c8a1a7row0_col0\" class=\"data row0 col0\" >13</td>\n",
       "                        <td id=\"T_56c4a25c_af94_11eb_bd3e_c4b301c8a1a7row0_col1\" class=\"data row0 col1\" >$4.61</td>\n",
       "                        <td id=\"T_56c4a25c_af94_11eb_bd3e_c4b301c8a1a7row0_col2\" class=\"data row0 col2\" >$59.99</td>\n",
       "            </tr>\n",
       "            <tr>\n",
       "                        <th id=\"T_56c4a25c_af94_11eb_bd3e_c4b301c8a1a7level0_row1\" class=\"row_heading level0 row1\" >178</th>\n",
       "                        <th id=\"T_56c4a25c_af94_11eb_bd3e_c4b301c8a1a7level1_row1\" class=\"row_heading level1 row1\" >Oathbreaker, Last Hope of the Breaking Storm</th>\n",
       "                        <td id=\"T_56c4a25c_af94_11eb_bd3e_c4b301c8a1a7row1_col0\" class=\"data row1 col0\" >12</td>\n",
       "                        <td id=\"T_56c4a25c_af94_11eb_bd3e_c4b301c8a1a7row1_col1\" class=\"data row1 col1\" >$4.23</td>\n",
       "                        <td id=\"T_56c4a25c_af94_11eb_bd3e_c4b301c8a1a7row1_col2\" class=\"data row1 col2\" >$50.76</td>\n",
       "            </tr>\n",
       "            <tr>\n",
       "                        <th id=\"T_56c4a25c_af94_11eb_bd3e_c4b301c8a1a7level0_row2\" class=\"row_heading level0 row2\" >82</th>\n",
       "                        <th id=\"T_56c4a25c_af94_11eb_bd3e_c4b301c8a1a7level1_row2\" class=\"row_heading level1 row2\" >Nirvana</th>\n",
       "                        <td id=\"T_56c4a25c_af94_11eb_bd3e_c4b301c8a1a7row2_col0\" class=\"data row2 col0\" >9</td>\n",
       "                        <td id=\"T_56c4a25c_af94_11eb_bd3e_c4b301c8a1a7row2_col1\" class=\"data row2 col1\" >$4.90</td>\n",
       "                        <td id=\"T_56c4a25c_af94_11eb_bd3e_c4b301c8a1a7row2_col2\" class=\"data row2 col2\" >$44.10</td>\n",
       "            </tr>\n",
       "            <tr>\n",
       "                        <th id=\"T_56c4a25c_af94_11eb_bd3e_c4b301c8a1a7level0_row3\" class=\"row_heading level0 row3\" >108</th>\n",
       "                        <th id=\"T_56c4a25c_af94_11eb_bd3e_c4b301c8a1a7level1_row3\" class=\"row_heading level1 row3\" >Extraction, Quickblade Of Trembling Hands</th>\n",
       "                        <td id=\"T_56c4a25c_af94_11eb_bd3e_c4b301c8a1a7row3_col0\" class=\"data row3 col0\" >9</td>\n",
       "                        <td id=\"T_56c4a25c_af94_11eb_bd3e_c4b301c8a1a7row3_col1\" class=\"data row3 col1\" >$3.53</td>\n",
       "                        <td id=\"T_56c4a25c_af94_11eb_bd3e_c4b301c8a1a7row3_col2\" class=\"data row3 col2\" >$31.77</td>\n",
       "            </tr>\n",
       "            <tr>\n",
       "                        <th id=\"T_56c4a25c_af94_11eb_bd3e_c4b301c8a1a7level0_row4\" class=\"row_heading level0 row4\" >132</th>\n",
       "                        <th id=\"T_56c4a25c_af94_11eb_bd3e_c4b301c8a1a7level1_row4\" class=\"row_heading level1 row4\" >Persuasion</th>\n",
       "                        <td id=\"T_56c4a25c_af94_11eb_bd3e_c4b301c8a1a7row4_col0\" class=\"data row4 col0\" >9</td>\n",
       "                        <td id=\"T_56c4a25c_af94_11eb_bd3e_c4b301c8a1a7row4_col1\" class=\"data row4 col1\" >$3.22</td>\n",
       "                        <td id=\"T_56c4a25c_af94_11eb_bd3e_c4b301c8a1a7row4_col2\" class=\"data row4 col2\" >$28.99</td>\n",
       "            </tr>\n",
       "    </tbody></table>"
      ],
      "text/plain": [
       "<pandas.io.formats.style.Styler at 0x7fdb4a426220>"
      ]
     },
     "execution_count": 9,
     "metadata": {},
     "output_type": "execute_result"
    }
   ],
   "source": [
    "itemsDF = pd.DataFrame({\n",
    "    #Purchase count = grouping by Item columns, counting purchases\n",
    "    \"Purchase Count\": purchase_data.groupby(['Item ID', 'Item Name'])['Purchase ID'].count(),\n",
    "    #AVG purchase price = grouping by Item columns then average prices\n",
    "    \"Item Price\": purchase_data.groupby(['Item ID', 'Item Name'])['Price'].mean(),\n",
    "    #total purchase = grouping by Item columns then sum of prices\n",
    "    \"Total Purchase Value\": purchase_data.groupby(['Item ID', 'Item Name'])['Price'].sum(),\n",
    "})\n",
    "\n",
    "# sort and pull top 5 by total purchase count then Format and print\n",
    "itemsDF.nlargest(5, 'Purchase Count').style.format({'Item Price':'${:,.2f}', 'Total Purchase Value':'${:,.2f}'})"
   ]
  },
  {
   "cell_type": "markdown",
   "metadata": {},
   "source": [
    "## Most Profitable Items"
   ]
  },
  {
   "cell_type": "code",
   "execution_count": 10,
   "metadata": {},
   "outputs": [
    {
     "data": {
      "text/html": [
       "<style  type=\"text/css\" >\n",
       "</style><table id=\"T_56c9b346_af94_11eb_bd3e_c4b301c8a1a7\" ><thead>    <tr>        <th class=\"blank\" ></th>        <th class=\"blank level0\" ></th>        <th class=\"col_heading level0 col0\" >Purchase Count</th>        <th class=\"col_heading level0 col1\" >Item Price</th>        <th class=\"col_heading level0 col2\" >Total Purchase Value</th>    </tr>    <tr>        <th class=\"index_name level0\" >Item ID</th>        <th class=\"index_name level1\" >Item Name</th>        <th class=\"blank\" ></th>        <th class=\"blank\" ></th>        <th class=\"blank\" ></th>    </tr></thead><tbody>\n",
       "                <tr>\n",
       "                        <th id=\"T_56c9b346_af94_11eb_bd3e_c4b301c8a1a7level0_row0\" class=\"row_heading level0 row0\" >92</th>\n",
       "                        <th id=\"T_56c9b346_af94_11eb_bd3e_c4b301c8a1a7level1_row0\" class=\"row_heading level1 row0\" >Final Critic</th>\n",
       "                        <td id=\"T_56c9b346_af94_11eb_bd3e_c4b301c8a1a7row0_col0\" class=\"data row0 col0\" >13</td>\n",
       "                        <td id=\"T_56c9b346_af94_11eb_bd3e_c4b301c8a1a7row0_col1\" class=\"data row0 col1\" >$4.61</td>\n",
       "                        <td id=\"T_56c9b346_af94_11eb_bd3e_c4b301c8a1a7row0_col2\" class=\"data row0 col2\" >$59.99</td>\n",
       "            </tr>\n",
       "            <tr>\n",
       "                        <th id=\"T_56c9b346_af94_11eb_bd3e_c4b301c8a1a7level0_row1\" class=\"row_heading level0 row1\" >178</th>\n",
       "                        <th id=\"T_56c9b346_af94_11eb_bd3e_c4b301c8a1a7level1_row1\" class=\"row_heading level1 row1\" >Oathbreaker, Last Hope of the Breaking Storm</th>\n",
       "                        <td id=\"T_56c9b346_af94_11eb_bd3e_c4b301c8a1a7row1_col0\" class=\"data row1 col0\" >12</td>\n",
       "                        <td id=\"T_56c9b346_af94_11eb_bd3e_c4b301c8a1a7row1_col1\" class=\"data row1 col1\" >$4.23</td>\n",
       "                        <td id=\"T_56c9b346_af94_11eb_bd3e_c4b301c8a1a7row1_col2\" class=\"data row1 col2\" >$50.76</td>\n",
       "            </tr>\n",
       "            <tr>\n",
       "                        <th id=\"T_56c9b346_af94_11eb_bd3e_c4b301c8a1a7level0_row2\" class=\"row_heading level0 row2\" >82</th>\n",
       "                        <th id=\"T_56c9b346_af94_11eb_bd3e_c4b301c8a1a7level1_row2\" class=\"row_heading level1 row2\" >Nirvana</th>\n",
       "                        <td id=\"T_56c9b346_af94_11eb_bd3e_c4b301c8a1a7row2_col0\" class=\"data row2 col0\" >9</td>\n",
       "                        <td id=\"T_56c9b346_af94_11eb_bd3e_c4b301c8a1a7row2_col1\" class=\"data row2 col1\" >$4.90</td>\n",
       "                        <td id=\"T_56c9b346_af94_11eb_bd3e_c4b301c8a1a7row2_col2\" class=\"data row2 col2\" >$44.10</td>\n",
       "            </tr>\n",
       "            <tr>\n",
       "                        <th id=\"T_56c9b346_af94_11eb_bd3e_c4b301c8a1a7level0_row3\" class=\"row_heading level0 row3\" >145</th>\n",
       "                        <th id=\"T_56c9b346_af94_11eb_bd3e_c4b301c8a1a7level1_row3\" class=\"row_heading level1 row3\" >Fiery Glass Crusader</th>\n",
       "                        <td id=\"T_56c9b346_af94_11eb_bd3e_c4b301c8a1a7row3_col0\" class=\"data row3 col0\" >9</td>\n",
       "                        <td id=\"T_56c9b346_af94_11eb_bd3e_c4b301c8a1a7row3_col1\" class=\"data row3 col1\" >$4.58</td>\n",
       "                        <td id=\"T_56c9b346_af94_11eb_bd3e_c4b301c8a1a7row3_col2\" class=\"data row3 col2\" >$41.22</td>\n",
       "            </tr>\n",
       "            <tr>\n",
       "                        <th id=\"T_56c9b346_af94_11eb_bd3e_c4b301c8a1a7level0_row4\" class=\"row_heading level0 row4\" >103</th>\n",
       "                        <th id=\"T_56c9b346_af94_11eb_bd3e_c4b301c8a1a7level1_row4\" class=\"row_heading level1 row4\" >Singed Scalpel</th>\n",
       "                        <td id=\"T_56c9b346_af94_11eb_bd3e_c4b301c8a1a7row4_col0\" class=\"data row4 col0\" >8</td>\n",
       "                        <td id=\"T_56c9b346_af94_11eb_bd3e_c4b301c8a1a7row4_col1\" class=\"data row4 col1\" >$4.35</td>\n",
       "                        <td id=\"T_56c9b346_af94_11eb_bd3e_c4b301c8a1a7row4_col2\" class=\"data row4 col2\" >$34.80</td>\n",
       "            </tr>\n",
       "    </tbody></table>"
      ],
      "text/plain": [
       "<pandas.io.formats.style.Styler at 0x7fdb4b97cc10>"
      ]
     },
     "execution_count": 10,
     "metadata": {},
     "output_type": "execute_result"
    }
   ],
   "source": [
    "# sort and pull top 5 by total purchase Value then Format and print\n",
    "itemsDF.nlargest(5, 'Total Purchase Value').style.format({'Item Price':'${:,.2f}', 'Total Purchase Value':'${:,.2f}'})"
   ]
  }
 ],
 "metadata": {
  "anaconda-cloud": {},
  "kernel_info": {
   "name": "python3"
  },
  "kernelspec": {
   "display_name": "Python 3",
   "language": "python",
   "name": "python3"
  },
  "language_info": {
   "codemirror_mode": {
    "name": "ipython",
    "version": 3
   },
   "file_extension": ".py",
   "mimetype": "text/x-python",
   "name": "python",
   "nbconvert_exporter": "python",
   "pygments_lexer": "ipython3",
   "version": "3.8.5"
  },
  "latex_envs": {
   "LaTeX_envs_menu_present": true,
   "autoclose": false,
   "autocomplete": true,
   "bibliofile": "biblio.bib",
   "cite_by": "apalike",
   "current_citInitial": 1,
   "eqLabelWithNumbers": true,
   "eqNumInitial": 1,
   "hotkeys": {
    "equation": "Ctrl-E",
    "itemize": "Ctrl-I"
   },
   "labels_anchors": false,
   "latex_user_defs": false,
   "report_style_numbering": false,
   "user_envs_cfg": false
  },
  "nteract": {
   "version": "0.2.0"
  }
 },
 "nbformat": 4,
 "nbformat_minor": 2
}
